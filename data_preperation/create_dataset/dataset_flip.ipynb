{
 "cells": [
  {
   "cell_type": "code",
   "execution_count": 1,
   "metadata": {},
   "outputs": [],
   "source": [
    "import os\n",
    "import numpy as np\n",
    "import h5py\n",
    "from DatasetCreation import DatasetCreation"
   ]
  },
  {
   "cell_type": "code",
   "execution_count": 2,
   "metadata": {},
   "outputs": [],
   "source": [
    "path_hdf5 = '/media/philipp/DATA/dataset/dataset_256_df_177.h5'\n",
    "#dataset_256_df_177.h5'\n",
    "hdf5_ds = h5py.File(path_hdf5, 'r')"
   ]
  },
  {
   "cell_type": "code",
   "execution_count": 3,
   "metadata": {},
   "outputs": [
    {
     "data": {
      "text/plain": [
       "<HDF5 dataset \"dsm\": shape (42716, 256, 256, 1), type \"<f2\">"
      ]
     },
     "execution_count": 3,
     "metadata": {},
     "output_type": "execute_result"
    }
   ],
   "source": [
    "hdf5_ds['dsm']"
   ]
  },
  {
   "cell_type": "code",
   "execution_count": 4,
   "metadata": {},
   "outputs": [
    {
     "data": {
      "text/plain": [
       "<KeysViewHDF5 ['age', 'dsm', 'dtm', 'ground_truth_ac1', 'ground_truth_ac12', 'ground_truth_std', 'ortho', 'slope']>"
      ]
     },
     "execution_count": 4,
     "metadata": {},
     "output_type": "execute_result"
    }
   ],
   "source": [
    "hdf5_ds.keys()"
   ]
  },
  {
   "cell_type": "code",
   "execution_count": 5,
   "metadata": {},
   "outputs": [],
   "source": [
    "path_load = '/home/philipp/Data/edin_index/train_indices.npy'\n",
    "train = np.sort(np.load(path_load))\n",
    "\n",
    "path_load = '/home/philipp/Data/edin_index/val_indices.npy'\n",
    "val = np.sort(np.load(path_load))\n",
    "\n",
    "path_load = '/home/philipp/Data/edin_index/test_indices.npy'\n",
    "test = np.sort(np.load(path_load))"
   ]
  },
  {
   "cell_type": "code",
   "execution_count": 6,
   "metadata": {},
   "outputs": [
    {
     "data": {
      "text/plain": [
       "array([    0,     1,     2, ..., 42713, 42714, 42715])"
      ]
     },
     "execution_count": 6,
     "metadata": {},
     "output_type": "execute_result"
    }
   ],
   "source": [
    "train"
   ]
  },
  {
   "cell_type": "code",
   "execution_count": 7,
   "metadata": {},
   "outputs": [
    {
     "data": {
      "text/plain": [
       "array([    7,    14,    17, ..., 42697, 42707, 42710])"
      ]
     },
     "execution_count": 7,
     "metadata": {},
     "output_type": "execute_result"
    }
   ],
   "source": [
    "val"
   ]
  },
  {
   "cell_type": "code",
   "execution_count": 8,
   "metadata": {},
   "outputs": [],
   "source": [
    "idx = np.sort(np.concatenate((train, val)))"
   ]
  },
  {
   "cell_type": "code",
   "execution_count": 9,
   "metadata": {},
   "outputs": [
    {
     "data": {
      "text/plain": [
       "array([    0,     1,     2, ..., 42713, 42714, 42715])"
      ]
     },
     "execution_count": 9,
     "metadata": {},
     "output_type": "execute_result"
    }
   ],
   "source": [
    "idx"
   ]
  },
  {
   "cell_type": "code",
   "execution_count": 10,
   "metadata": {},
   "outputs": [
    {
     "name": "stdout",
     "output_type": "stream",
     "text": [
      "(29908,)\n",
      "(4268,)\n",
      "(8540,)\n"
     ]
    }
   ],
   "source": [
    "print(train.shape)\n",
    "print(val.shape)\n",
    "print(test.shape)"
   ]
  },
  {
   "cell_type": "code",
   "execution_count": 11,
   "metadata": {},
   "outputs": [
    {
     "data": {
      "text/plain": [
       "34176"
      ]
     },
     "execution_count": 11,
     "metadata": {},
     "output_type": "execute_result"
    }
   ],
   "source": [
    "29908+4268"
   ]
  },
  {
   "cell_type": "code",
   "execution_count": 12,
   "metadata": {},
   "outputs": [
    {
     "data": {
      "text/plain": [
       "array([35742, 35743, 35744, 35745, 35746, 35747, 35748, 35749, 35750,\n",
       "       35752, 35753, 35754, 35755, 35756, 35757, 35758, 35759, 35760,\n",
       "       35761, 35762, 35764, 35766, 35767, 35768, 35769, 35772, 35773,\n",
       "       35775, 35777, 35778, 35779, 35780, 35784, 35786, 35787, 35789,\n",
       "       35790, 35792, 35794, 35795, 35796, 35798, 35799, 35800, 35801,\n",
       "       35804, 35806, 35807, 35809, 35810, 35811, 35812, 35813, 35814,\n",
       "       35815, 35816, 35818, 35822, 35823, 35825, 35826, 35829, 35830,\n",
       "       35831, 35833, 35834, 35836, 35838, 35839, 35841, 35843, 35844,\n",
       "       35846, 35848, 35849, 35850, 35852, 35853, 35854, 35855, 35856,\n",
       "       35857, 35859, 35860, 35862, 35864, 35865, 35866, 35867, 35868,\n",
       "       35870, 35872, 35873, 35874, 35875, 35876, 35877, 35879, 35880,\n",
       "       35882])"
      ]
     },
     "execution_count": 12,
     "metadata": {},
     "output_type": "execute_result"
    }
   ],
   "source": [
    "train[25000:25100]"
   ]
  },
  {
   "cell_type": "code",
   "execution_count": 13,
   "metadata": {},
   "outputs": [
    {
     "data": {
      "text/plain": [
       "(100, 256, 256, 1)"
      ]
     },
     "execution_count": 13,
     "metadata": {},
     "output_type": "execute_result"
    }
   ],
   "source": [
    "hdf5_ds['dsm'][40000:40100].shape"
   ]
  },
  {
   "cell_type": "code",
   "execution_count": 14,
   "metadata": {
    "scrolled": true
   },
   "outputs": [
    {
     "data": {
      "text/plain": [
       "(1000, 256, 256, 1)"
      ]
     },
     "execution_count": 14,
     "metadata": {},
     "output_type": "execute_result"
    }
   ],
   "source": [
    "hdf5_ds['dsm'][train[25000:26000]].shape"
   ]
  },
  {
   "cell_type": "code",
   "execution_count": 15,
   "metadata": {},
   "outputs": [],
   "source": [
    "hdf5_ds.close()"
   ]
  },
  {
   "cell_type": "code",
   "execution_count": 43,
   "metadata": {},
   "outputs": [],
   "source": [
    "#####################################################################################"
   ]
  },
  {
   "cell_type": "code",
   "execution_count": 16,
   "metadata": {},
   "outputs": [],
   "source": [
    "# create dataset"
   ]
  },
  {
   "cell_type": "code",
   "execution_count": 16,
   "metadata": {},
   "outputs": [],
   "source": [
    "def create_hdf5(path_file, tile_size, dataset_size):\n",
    "    path_hdf5 = path_file\n",
    "    # cerate file\n",
    "    hdf5_ds = h5py.File(path_file, 'a')\n",
    "    # create dataset\n",
    "    for data_type in data_types:\n",
    "        x = hdf5_ds.create_dataset(data_type, \\\n",
    "        (dataset_size, tile_size, tile_size, data_dic[data_type]['dim']), \\\n",
    "        dtype=data_dic[data_type]['dtype'])\n",
    "    hdf5_ds.close()"
   ]
  },
  {
   "cell_type": "code",
   "execution_count": 18,
   "metadata": {},
   "outputs": [],
   "source": [
    "type_mask='ground_truth_std'\n",
    "data_dic = {'ortho':{'dtype':np.uint8, 'dim':4}, \\\n",
    "            'dsm':{'dtype':np.float16, 'dim':1}, \\\n",
    "            'dtm':{'dtype':np.float16, 'dim':1}, \\\n",
    "            'slope':{'dtype':np.float16, 'dim':1}, \\\n",
    "            'age':{'dtype':np.uint8, 'dim':1}, \\\n",
    "            'ground_truth_std':{'dtype':np.uint8, 'dim':1}, \\\n",
    "            'ground_truth_ac12':{'dtype':np.uint8, 'dim':1}, \\\n",
    "            'ground_truth_ac1':{'dtype':np.uint8, 'dim':1}}\n",
    "\n",
    "data_types = list(data_dic.keys())"
   ]
  },
  {
   "cell_type": "code",
   "execution_count": 17,
   "metadata": {},
   "outputs": [],
   "source": [
    "### mask ###\n",
    "'''\n",
    "type_mask='ground_truth_std_mask'\n",
    "data_dic = {'ortho':{'dtype':np.uint8, 'dim':4}, \\\n",
    "            'dsm':{'dtype':np.float16, 'dim':1}, \\\n",
    "            'dtm':{'dtype':np.float16, 'dim':1}, \\\n",
    "            'slope':{'dtype':np.float16, 'dim':1}, \\\n",
    "            'age':{'dtype':np.uint8, 'dim':1}, \\\n",
    "            'ground_truth_std_mask':{'dtype':np.uint8, 'dim':1}, \\\n",
    "            'ground_truth_ac12_mask':{'dtype':np.uint8, 'dim':1}, \\\n",
    "            'ground_truth_ac1_mask':{'dtype':np.uint8, 'dim':1}}\n",
    "\n",
    "data_types = list(data_dic.keys())\n",
    "'''"
   ]
  },
  {
   "cell_type": "code",
   "execution_count": 19,
   "metadata": {},
   "outputs": [
    {
     "name": "stdout",
     "output_type": "stream",
     "text": [
      "file not found -> creating file\n"
     ]
    }
   ],
   "source": [
    "# set output path\n",
    "path_hdf5 = '/media/philipp/DATA/dataset/dataset_ext_256_df_177.h5'\n",
    "\n",
    "if not os.path.isfile(path_hdf5):\n",
    "    print('file not found -> creating file')\n",
    "    # create new hdf5 file\n",
    "    create_hdf5(path_hdf5, tile_size=256, dataset_size=10679*4+34176) # tams: 39280, bisch: 35272\n",
    "else:\n",
    "    print('file existing')"
   ]
  },
  {
   "cell_type": "code",
   "execution_count": 18,
   "metadata": {},
   "outputs": [
    {
     "name": "stdout",
     "output_type": "stream",
     "text": [
      "file not found -> creating file\n"
     ]
    }
   ],
   "source": [
    "### mask ###\n",
    "# set output path\n",
    "'''\n",
    "path_hdf5 = '/media/philipp/DATA/dataset/dataset_mask_ext_256_df_177.h5'\n",
    "\n",
    "if not os.path.isfile(path_hdf5):\n",
    "    print('file not found -> creating file')\n",
    "    # create new hdf5 file\n",
    "    create_hdf5(path_hdf5, tile_size=256, dataset_size=10679*4+34176) # tams: 39280, bisch: 35272\n",
    "else:\n",
    "    print('file existing')\n",
    "'''"
   ]
  },
  {
   "cell_type": "code",
   "execution_count": 20,
   "metadata": {},
   "outputs": [],
   "source": [
    "#######################################################################################\n",
    "# feed data"
   ]
  },
  {
   "cell_type": "code",
   "execution_count": 19,
   "metadata": {},
   "outputs": [],
   "source": [
    "# set output path\n",
    "path_main = '/media/philipp/DATA/dataset/dataset_256_df_177.h5'\n",
    "#path_main = '/media/philipp/DATA/dataset/dataset_mask_256_df_177.h5'\n",
    "# load data\n",
    "main_ds = h5py.File(path_main, 'r')"
   ]
  },
  {
   "cell_type": "code",
   "execution_count": 20,
   "metadata": {},
   "outputs": [],
   "source": [
    "# set output path\n",
    "path_hdf5 = '/media/philipp/DATA/dataset/dataset_ext_256_df_177.h5'\n",
    "#path_hdf5 = '/media/philipp/DATA/dataset/dataset_mask_ext_256_df_177.h5'\n",
    "# load data\n",
    "hdf5_ds = h5py.File(path_hdf5, 'a')"
   ]
  },
  {
   "cell_type": "code",
   "execution_count": 21,
   "metadata": {},
   "outputs": [
    {
     "data": {
      "text/plain": [
       "<HDF5 dataset \"ortho\": shape (42716, 256, 256, 4), type \"|u1\">"
      ]
     },
     "execution_count": 21,
     "metadata": {},
     "output_type": "execute_result"
    }
   ],
   "source": [
    "main_ds['ortho']"
   ]
  },
  {
   "cell_type": "code",
   "execution_count": 22,
   "metadata": {},
   "outputs": [
    {
     "data": {
      "text/plain": [
       "<HDF5 dataset \"ortho\": shape (76892, 256, 256, 4), type \"|u1\">"
      ]
     },
     "execution_count": 22,
     "metadata": {},
     "output_type": "execute_result"
    }
   ],
   "source": [
    "hdf5_ds['ortho']"
   ]
  },
  {
   "cell_type": "code",
   "execution_count": 23,
   "metadata": {},
   "outputs": [],
   "source": [
    "# copy original\n",
    "for data_type in data_types:\n",
    "    # set dataset\n",
    "    source = main_ds[data_type]\n",
    "    # set dataset\n",
    "    target = hdf5_ds[data_type]\n",
    "    # assign data\n",
    "    target[:20000,:,:,:] = source[:20000,:,:,:]"
   ]
  },
  {
   "cell_type": "code",
   "execution_count": 24,
   "metadata": {},
   "outputs": [],
   "source": [
    "# copy original\n",
    "for data_type in data_types:\n",
    "    # set dataset\n",
    "    source = main_ds[data_type]\n",
    "    # set dataset\n",
    "    target = hdf5_ds[data_type]\n",
    "    # assign data\n",
    "    target[20000:42716,:,:,:] = source[20000:42716,:,:,:]"
   ]
  },
  {
   "cell_type": "code",
   "execution_count": 25,
   "metadata": {},
   "outputs": [],
   "source": [
    "# copy fliped\n",
    "for data_type in data_types:\n",
    "    # set dataset\n",
    "    source = main_ds[data_type]\n",
    "    # set dataset\n",
    "    target = hdf5_ds[data_type]\n",
    "    # assign data\n",
    "    target[42716:42716+10000,:,:,:] = np.flip(source[idx[:10000],:,:,:], axis=2)"
   ]
  },
  {
   "cell_type": "code",
   "execution_count": 26,
   "metadata": {},
   "outputs": [],
   "source": [
    "# copy fliped\n",
    "for data_type in data_types:\n",
    "    # set dataset\n",
    "    source = main_ds[data_type]\n",
    "    # set dataset\n",
    "    target = hdf5_ds[data_type]\n",
    "    # assign data\n",
    "    target[42716+10000:42716+20000,:,:,:] = np.flip(source[idx[10000:20000],:,:,:], axis=2)"
   ]
  },
  {
   "cell_type": "code",
   "execution_count": 27,
   "metadata": {},
   "outputs": [],
   "source": [
    "# copy fliped\n",
    "for data_type in data_types:\n",
    "    # set dataset\n",
    "    source = main_ds[data_type]\n",
    "    # set dataset\n",
    "    target = hdf5_ds[data_type]\n",
    "    # assign data\n",
    "    target[42716+20000:42716+30000,:,:,:] = np.flip(source[idx[20000:30000],:,:,:], axis=2)"
   ]
  },
  {
   "cell_type": "code",
   "execution_count": 28,
   "metadata": {},
   "outputs": [],
   "source": [
    "# copy fliped\n",
    "for data_type in data_types:\n",
    "    # set dataset\n",
    "    source = main_ds[data_type]\n",
    "    # set dataset\n",
    "    target = hdf5_ds[data_type]\n",
    "    # assign data\n",
    "    target[42716+30000:42716+34176,:,:,:] = np.flip(source[idx[30000:34176],:,:,:], axis=2)"
   ]
  },
  {
   "cell_type": "code",
   "execution_count": 29,
   "metadata": {},
   "outputs": [],
   "source": [
    "hdf5_ds.close()\n",
    "main_ds.close()"
   ]
  },
  {
   "cell_type": "code",
   "execution_count": null,
   "metadata": {},
   "outputs": [],
   "source": [
    "#######################################################################################\n",
    "########################\n",
    "# add stats to dataset\n",
    "########################"
   ]
  },
  {
   "cell_type": "code",
   "execution_count": 32,
   "metadata": {},
   "outputs": [],
   "source": [
    "#####################\n",
    "# tamsweg (177)\n",
    "#--------------------\n",
    "# ortho\n",
    "ortho_m = np.array([56.12055784563426, 62.130400134006976, 53.03228547781888, 119.50916281232037], dtype='float32')\n",
    "ortho_s = np.array([30.37628560708646, 30.152693706272483, 23.13718651792004, 49.301477498205074], dtype='float32')\n",
    "#--------------------\n",
    "# dsm\n",
    "dsm_m = np.array([13.45], dtype='float32')\n",
    "dsm_s = np.array([10.386633252098674], dtype='float32')\n",
    "#--------------------\n",
    "# dtm\n",
    "dtm_m = np.array([1446.0], dtype='float32')\n",
    "dtm_s = np.array([271.05322202384195], dtype='float32')\n",
    "#--------------------\n",
    "# slope\n",
    "slope_m = np.array([22.39], dtype='float32')\n",
    "slope_s = np.array([11.69830556896441], dtype='float32')\n",
    "#--------------------\n",
    "# age\n",
    "age_m = np.array([78.5], dtype='float32')\n",
    "age_s = np.array([62.3], dtype='float32')\n",
    "#####################"
   ]
  },
  {
   "cell_type": "code",
   "execution_count": 30,
   "metadata": {},
   "outputs": [],
   "source": [
    "#####################\n",
    "# tamsweg (177) mask\n",
    "#--------------------\n",
    "# ortho\n",
    "ortho_m = np.array([33.82914264113484, 37.55754176873104, 31.903114954332853, 74.5179778501909], dtype='float32')\n",
    "ortho_s = np.array([35.77673396410279, 38.05332744218563, 31.1493457987135, 71.2077061375181], dtype='float32')\n",
    "#--------------------\n",
    "# dsm\n",
    "dsm_m = np.array([7.913559175718699], dtype='float32')\n",
    "dsm_s = np.array([9.694446633486207], dtype='float32')\n",
    "#--------------------\n",
    "# dtm\n",
    "dtm_m = np.array([863.1380279052345], dtype='float32')\n",
    "dtm_s = np.array([731.0248602823007], dtype='float32')\n",
    "#--------------------\n",
    "# slope\n",
    "slope_m = np.array([13.615414891375597], dtype='float32')\n",
    "slope_s = np.array([13.993867741806872], dtype='float32')\n",
    "#####################"
   ]
  },
  {
   "cell_type": "code",
   "execution_count": 31,
   "metadata": {},
   "outputs": [],
   "source": [
    "path_hdf5 = '/media/philipp/DATA/dataset/dataset_ext_256_df_177.h5'\n",
    "#path_hdf5 = '/media/philipp/DATA/dataset/dataset_mask_ext_256_df_177.h5'\n",
    "with h5py.File(path_hdf5, 'a') as hdf5_ds:\n",
    "    # ortho\n",
    "    hdf5_ds['ortho'].attrs['mean'] = ortho_m\n",
    "    hdf5_ds['ortho'].attrs['sd'] = ortho_s\n",
    "    # dsm\n",
    "    hdf5_ds['dsm'].attrs['mean'] = dsm_m\n",
    "    hdf5_ds['dsm'].attrs['sd'] = dsm_s\n",
    "    # dtm\n",
    "    hdf5_ds['dtm'].attrs['mean'] = dtm_m\n",
    "    hdf5_ds['dtm'].attrs['sd'] = dtm_s\n",
    "    # slope\n",
    "    hdf5_ds['slope'].attrs['mean'] = slope_m\n",
    "    hdf5_ds['slope'].attrs['sd'] = slope_s\n",
    "    # age\n",
    "    #hdf5_ds['age'].attrs['mean'] = age_m\n",
    "    #hdf5_ds['age'].attrs['sd'] = age_s"
   ]
  },
  {
   "cell_type": "code",
   "execution_count": 32,
   "metadata": {},
   "outputs": [],
   "source": [
    "path_hdf5 = '/media/philipp/DATA/dataset/dataset_mask_ext_256_df_177.h5'\n",
    "hdf5_ds = h5py.File(path_hdf5, 'r')"
   ]
  },
  {
   "cell_type": "code",
   "execution_count": 33,
   "metadata": {},
   "outputs": [
    {
     "data": {
      "text/plain": [
       "<KeysViewHDF5 ['mean', 'sd']>"
      ]
     },
     "execution_count": 33,
     "metadata": {},
     "output_type": "execute_result"
    }
   ],
   "source": [
    "hdf5_ds['ortho'].attrs.keys()"
   ]
  },
  {
   "cell_type": "code",
   "execution_count": 34,
   "metadata": {},
   "outputs": [],
   "source": [
    "hdf5_ds.close()"
   ]
  },
  {
   "cell_type": "code",
   "execution_count": null,
   "metadata": {},
   "outputs": [],
   "source": []
  },
  {
   "cell_type": "code",
   "execution_count": 3,
   "metadata": {},
   "outputs": [],
   "source": [
    "# set output path\n",
    "path_hdf5 = '/media/philipp/DATA/dataset/dataset_ext_256_df_177.h5'\n",
    "# load data\n",
    "hdf5_ds = h5py.File(path_hdf5, 'r')"
   ]
  },
  {
   "cell_type": "code",
   "execution_count": 4,
   "metadata": {},
   "outputs": [
    {
     "data": {
      "text/plain": [
       "array([[[ 29,  36,  41,  47],\n",
       "        [ 27,  33,  36,  44],\n",
       "        [ 29,  35,  40,  48],\n",
       "        ...,\n",
       "        [ 87,  94,  83, 164],\n",
       "        [ 80,  87,  74, 155],\n",
       "        [ 76,  83,  69, 151]],\n",
       "\n",
       "       [[ 30,  37,  44,  49],\n",
       "        [ 25,  30,  34,  42],\n",
       "        [ 26,  33,  37,  45],\n",
       "        ...,\n",
       "        [ 68,  73,  59, 141],\n",
       "        [ 56,  57,  39, 123],\n",
       "        [ 59,  60,  43, 126]],\n",
       "\n",
       "       [[ 27,  33,  40,  45],\n",
       "        [ 27,  33,  40,  46],\n",
       "        [ 29,  36,  45,  50],\n",
       "        ...,\n",
       "        [ 54,  56,  37, 120],\n",
       "        [ 61,  64,  47, 131],\n",
       "        [ 80,  86,  75, 160]],\n",
       "\n",
       "       ...,\n",
       "\n",
       "       [[ 30,  36,  38,  62],\n",
       "        [ 28,  35,  35,  62],\n",
       "        [ 29,  36,  37,  66],\n",
       "        ...,\n",
       "        [ 66,  76,  71, 137],\n",
       "        [ 67,  75,  70, 138],\n",
       "        [ 57,  63,  56, 122]],\n",
       "\n",
       "       [[ 28,  33,  36,  59],\n",
       "        [ 29,  36,  40,  66],\n",
       "        [ 29,  37,  39,  68],\n",
       "        ...,\n",
       "        [ 61,  68,  60, 128],\n",
       "        [ 61,  68,  61, 127],\n",
       "        [ 54,  59,  51, 115]],\n",
       "\n",
       "       [[ 26,  30,  33,  55],\n",
       "        [ 29,  36,  39,  67],\n",
       "        [ 28,  36,  40,  68],\n",
       "        ...,\n",
       "        [ 62,  68,  59, 127],\n",
       "        [ 65,  73,  68, 133],\n",
       "        [ 55,  60,  52, 116]]], dtype=uint8)"
      ]
     },
     "execution_count": 4,
     "metadata": {},
     "output_type": "execute_result"
    }
   ],
   "source": [
    "hdf5_ds['ortho'][70338]"
   ]
  },
  {
   "cell_type": "code",
   "execution_count": 5,
   "metadata": {},
   "outputs": [
    {
     "data": {
      "text/plain": [
       "<KeysViewHDF5 ['age', 'dsm', 'dtm', 'ground_truth_ac1', 'ground_truth_ac12', 'ground_truth_std', 'ortho', 'slope']>"
      ]
     },
     "execution_count": 5,
     "metadata": {},
     "output_type": "execute_result"
    }
   ],
   "source": [
    "hdf5_ds.keys()"
   ]
  },
  {
   "cell_type": "code",
   "execution_count": 6,
   "metadata": {},
   "outputs": [
    {
     "data": {
      "text/plain": [
       "<HDF5 dataset \"ground_truth_ac12\": shape (76892, 256, 256, 1), type \"|u1\">"
      ]
     },
     "execution_count": 6,
     "metadata": {},
     "output_type": "execute_result"
    }
   ],
   "source": [
    "hdf5_ds['ground_truth_ac12']"
   ]
  },
  {
   "cell_type": "code",
   "execution_count": 23,
   "metadata": {},
   "outputs": [],
   "source": [
    "hdf5_ds.close()"
   ]
  },
  {
   "cell_type": "code",
   "execution_count": null,
   "metadata": {},
   "outputs": [],
   "source": []
  }
 ],
 "metadata": {
  "kernelspec": {
   "display_name": "geo",
   "language": "python",
   "name": "geo"
  },
  "language_info": {
   "codemirror_mode": {
    "name": "ipython",
    "version": 3
   },
   "file_extension": ".py",
   "mimetype": "text/x-python",
   "name": "python",
   "nbconvert_exporter": "python",
   "pygments_lexer": "ipython3",
   "version": "3.8.2"
  }
 },
 "nbformat": 4,
 "nbformat_minor": 4
}
