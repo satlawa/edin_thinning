{
 "cells": [
  {
   "cell_type": "code",
   "execution_count": 1,
   "metadata": {},
   "outputs": [],
   "source": [
    "from DataPreperation import DataPreperation"
   ]
  },
  {
   "cell_type": "code",
   "execution_count": 2,
   "metadata": {},
   "outputs": [],
   "source": [
    "dp = DataPreperation('/media/philipp/DATA/2018_pongau/')"
   ]
  },
  {
   "cell_type": "code",
   "execution_count": 4,
   "metadata": {},
   "outputs": [
    {
     "name": "stdout",
     "output_type": "stream",
     "text": [
      "0%\n",
      "10%\n",
      "20%\n",
      "30%\n",
      "40%\n",
      "50%\n",
      "60%\n",
      "70%\n",
      "80%\n",
      "90%\n",
      "100%\n",
      "finished cilpping\n"
     ]
    }
   ],
   "source": [
    "path_in_grid = \"/home/philipp/Data/edin_diss/GIS_grid/df/cut_179_bischofshofen_FR69.shp\"\n",
    "path_in_raster = \"/media/philipp/ed7d22ba-5a3b-4d31-bf6c-6add6e106b3d/ortho/2018250_bischofshofen_lb_rgbi.img\"\n",
    "path_out_dir = \"/media/philipp/DATA/2018_pongau/\"\n",
    "typ='ortho'\n",
    "sufix = \"\"\n",
    "\n",
    "dp.clip_by_grid(path_in_grid, path_in_raster, path_out_dir, typ)"
   ]
  },
  {
   "cell_type": "code",
   "execution_count": 6,
   "metadata": {},
   "outputs": [
    {
     "name": "stdout",
     "output_type": "stream",
     "text": [
      "0%\n",
      "10%\n",
      "20%\n",
      "30%\n",
      "40%\n",
      "50%\n",
      "60%\n",
      "70%\n",
      "80%\n",
      "90%\n",
      "100%\n",
      "finished cilpping\n"
     ]
    }
   ],
   "source": [
    "dp = DataPreperation('/media/philipp/DATA/2018_pongau_tams/')\n",
    "\n",
    "path_in_grid = \"/home/philipp/Data/edin_diss/GIS_grid/df/cut_179_tamsweg_FR78910.shp\"\n",
    "path_in_raster = \"/media/philipp/Seagate\\ Desktop\\ Drive/2018/2018360_tamsweg_lb_rgbi.img\"\n",
    "path_out_dir = \"/media/philipp/DATA/2018_pongau_tams/\"\n",
    "typ='ortho'\n",
    "sufix = \"\"\n",
    "\n",
    "dp.clip_by_grid(path_in_grid, path_in_raster, path_out_dir, typ)"
   ]
  },
  {
   "cell_type": "code",
   "execution_count": 2,
   "metadata": {},
   "outputs": [],
   "source": [
    "dp = DataPreperation('/media/philipp/DATA/2018_bischofshofen_predict/')"
   ]
  },
  {
   "cell_type": "code",
   "execution_count": 5,
   "metadata": {},
   "outputs": [
    {
     "name": "stdout",
     "output_type": "stream",
     "text": [
      "0%\n",
      "10%\n",
      "20%\n",
      "30%\n",
      "40%\n",
      "50%\n",
      "60%\n",
      "70%\n",
      "80%\n",
      "90%\n",
      "100%\n",
      "finished cilpping\n"
     ]
    }
   ],
   "source": [
    "path_in_grid = \"/home/philipp/Data/edin_diss/GIS_grid/df_prediction_3200/grid_df_prediction_176_3200.shp\"\n",
    "#path_in_raster = \"/media/philipp/Seagate\\ Desktop\\ Drive/2018/2018360_tamsweg_lb_rgbi.img\"\n",
    "path_in_raster = \"/media/philipp/ed7d22ba-5a3b-4d31-bf6c-6add6e106b3d/ortho/2018250_bischofshofen_lb_rgbi.img\"\n",
    "path_out_dir = \"/media/philipp/DATA/2018_bischofshofen_predict/\"\n",
    "typ='ortho'\n",
    "\n",
    "dp.clip_by_grid(path_in_grid, path_in_raster, path_out_dir, typ)"
   ]
  },
  {
   "cell_type": "code",
   "execution_count": 3,
   "metadata": {},
   "outputs": [
    {
     "name": "stdout",
     "output_type": "stream",
     "text": [
      "Slope file created\n"
     ]
    }
   ],
   "source": [
    "# create slope\n",
    "input_path = \"/media/philipp/DATA/dtm/dtm_75.tif\"\n",
    "output_path = \"/media/philipp/DATA/slope/slope_75.tif\"\n",
    "dp.create_slope(input_path, output_path)"
   ]
  },
  {
   "cell_type": "code",
   "execution_count": 3,
   "metadata": {},
   "outputs": [
    {
     "name": "stdout",
     "output_type": "stream",
     "text": [
      "10%\n",
      "20%\n",
      "40%\n",
      "80%\n",
      "160%\n",
      "320%\n",
      "640%\n",
      "1280%\n",
      "2560%\n",
      "5120%\n",
      "10240%\n"
     ]
    }
   ],
   "source": [
    "# align raster to 0.2m\n",
    "dp.align_tiles('/media/philipp/DATA/2018_tamsweg/', typ='dsm')"
   ]
  },
  {
   "cell_type": "code",
   "execution_count": null,
   "metadata": {},
   "outputs": [],
   "source": []
  },
  {
   "cell_type": "code",
   "execution_count": null,
   "metadata": {},
   "outputs": [],
   "source": []
  },
  {
   "cell_type": "code",
   "execution_count": null,
   "metadata": {},
   "outputs": [],
   "source": []
  }
 ],
 "metadata": {
  "kernelspec": {
   "display_name": "geo",
   "language": "python",
   "name": "geo"
  },
  "language_info": {
   "codemirror_mode": {
    "name": "ipython",
    "version": 3
   },
   "file_extension": ".py",
   "mimetype": "text/x-python",
   "name": "python",
   "nbconvert_exporter": "python",
   "pygments_lexer": "ipython3",
   "version": "3.8.2"
  }
 },
 "nbformat": 4,
 "nbformat_minor": 4
}
