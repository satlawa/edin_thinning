{
 "cells": [
  {
   "cell_type": "code",
   "execution_count": 1,
   "metadata": {},
   "outputs": [],
   "source": [
    "from DataPreperation import DataPreperation"
   ]
  },
  {
   "cell_type": "code",
   "execution_count": 2,
   "metadata": {},
   "outputs": [],
   "source": [
    "dp = DataPreperation('/media/philipp/DATA/2018_pongau_tams/')"
   ]
  },
  {
   "cell_type": "code",
   "execution_count": 12,
   "metadata": {},
   "outputs": [
    {
     "name": "stdout",
     "output_type": "stream",
     "text": [
      "0%\n",
      "10%\n",
      "20%\n",
      "30%\n",
      "40%\n",
      "50%\n",
      "60%\n",
      "70%\n",
      "80%\n",
      "90%\n",
      "finished cilpping\n"
     ]
    }
   ],
   "source": [
    "#path_in_grid = \"/home/philipp/Data/edin_diss/GIS_grid/df/cut_179_bischofshofen_FR69.shp\"\n",
    "path_in_grid = \"/home/philipp/Data/edin_diss/GIS_grid/missing_dtm/dtm_179_tamsweg_007.shp\"\n",
    "path_in_raster = \"/media/philipp/DATA/dtm/dtm_7.tif\"\n",
    "path_out_dir = \"/media/philipp/DATA/2018_pongau_tams/\"\n",
    "typ='dtm'\n",
    "\n",
    "dp.clip_by_grid(path_in_grid, path_in_raster, path_out_dir, typ)"
   ]
  },
  {
   "cell_type": "code",
   "execution_count": 13,
   "metadata": {},
   "outputs": [
    {
     "name": "stdout",
     "output_type": "stream",
     "text": [
      "0%\n",
      "10%\n",
      "20%\n",
      "30%\n",
      "40%\n",
      "50%\n",
      "60%\n",
      "70%\n",
      "80%\n",
      "90%\n",
      "100%\n",
      "finished aligning\n"
     ]
    }
   ],
   "source": [
    "dp.align_tiles('/media/philipp/DATA/2018_pongau_tams/', data_type='dtm')"
   ]
  },
  {
   "cell_type": "code",
   "execution_count": null,
   "metadata": {},
   "outputs": [],
   "source": []
  },
  {
   "cell_type": "code",
   "execution_count": 3,
   "metadata": {},
   "outputs": [],
   "source": [
    "dp = DataPreperation('/media/philipp/DATA/2018_bischofshofen_predict/')"
   ]
  },
  {
   "cell_type": "code",
   "execution_count": 5,
   "metadata": {},
   "outputs": [
    {
     "name": "stdout",
     "output_type": "stream",
     "text": [
      "0%\n",
      "10%\n",
      "20%\n",
      "30%\n",
      "40%\n",
      "50%\n",
      "60%\n",
      "70%\n",
      "80%\n",
      "90%\n",
      "100%\n",
      "110%\n",
      "finished cilpping\n"
     ]
    }
   ],
   "source": [
    "path_in_grid = \"/home/philipp/Data/edin_diss/GIS_grid/missing_dtm/dtm_176_bischofshofen_009.shp\"\n",
    "path_in_raster = \"/media/philipp/DATA/dtm/dtm_9.tif\"\n",
    "path_out_dir = \"/media/philipp/DATA/2018_bischofshofen_predict/\"\n",
    "typ='dtm'\n",
    "\n",
    "dp.clip_by_grid(path_in_grid, path_in_raster, path_out_dir, typ)"
   ]
  },
  {
   "cell_type": "code",
   "execution_count": 6,
   "metadata": {},
   "outputs": [
    {
     "name": "stdout",
     "output_type": "stream",
     "text": [
      "0%\n",
      "10%\n",
      "20%\n",
      "30%\n",
      "40%\n",
      "50%\n",
      "60%\n",
      "70%\n",
      "80%\n",
      "90%\n",
      "100%\n",
      "finished aligning\n"
     ]
    }
   ],
   "source": [
    "dp.align_tiles('/media/philipp/DATA/2018_bischofshofen_predict/', data_type='dtm')"
   ]
  },
  {
   "cell_type": "code",
   "execution_count": null,
   "metadata": {},
   "outputs": [],
   "source": []
  }
 ],
 "metadata": {
  "kernelspec": {
   "display_name": "geo",
   "language": "python",
   "name": "geo"
  },
  "language_info": {
   "codemirror_mode": {
    "name": "ipython",
    "version": 3
   },
   "file_extension": ".py",
   "mimetype": "text/x-python",
   "name": "python",
   "nbconvert_exporter": "python",
   "pygments_lexer": "ipython3",
   "version": "3.8.2"
  }
 },
 "nbformat": 4,
 "nbformat_minor": 4
}
